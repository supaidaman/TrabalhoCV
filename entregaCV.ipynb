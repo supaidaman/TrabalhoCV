{
 "cells": [
  {
   "cell_type": "markdown",
   "metadata": {},
   "source": [
    "# Importações Iniciais e criação de descritor para HOG\n"
   ]
  },
  {
   "cell_type": "code",
   "execution_count": 1,
   "metadata": {},
   "outputs": [],
   "source": [
    "import matplotlib.pyplot as plt\n",
    "import numpy as np\n",
    "from skimage import data, exposure\n",
    "\n",
    "from sklearn.datasets import load_iris, load_digits\n",
    "from sklearn.model_selection import train_test_split\n",
    "from sklearn.metrics import accuracy_score\n",
    "import cv2\n",
    "\n",
    "hog = cv2.HOGDescriptor((28, 28), (14, 14), (7, 7), (14, 14), 12)\n"
   ]
  },
  {
   "cell_type": "markdown",
   "metadata": {},
   "source": [
    "# Pega dados de um arquivo de imagem e cria array numpy para guardar os resultados"
   ]
  },
  {
   "cell_type": "code",
   "execution_count": 2,
   "metadata": {},
   "outputs": [],
   "source": [
    "import glob\n",
    "size = 200, 200\n",
    "hasPothole = []\n",
    "\n",
    "i = 0;\n",
    "\n",
    "potholeFolderSize = len(glob.glob('potholes/*.jpg'))\n",
    "\n",
    "firstFileName = \"\"\n",
    "for filename in glob.glob('potholes/*.jpg'): \n",
    "    firstFileName = filename\n",
    "    break\n",
    "\n",
    "    \n",
    "im=cv2.imread(firstFileName)\n",
    "\n",
    "im_r= cv2.cvtColor(im, cv2.COLOR_BGR2GRAY)\n",
    "image_resized = cv2.resize(im_r, (size))\n",
    "hogImage = hog.compute(image_resized).reshape(1, -1)\n",
    "\n",
    "\n",
    "potHoleImageDimensions =hogImage.shape[1]         \n",
    "    \n",
    "potholeData = np.zeros((potholeFolderSize, potHoleImageDimensions))\n",
    "\n",
    "    "
   ]
  },
  {
   "cell_type": "markdown",
   "metadata": {},
   "source": [
    "# Calcula HOG para todas as imagens de buracos na pasta. Segue o seguinte processo: Lê imagem, converte para tons de cinza, redimensiona para 200x200 e por fim calcula HOG"
   ]
  },
  {
   "cell_type": "code",
   "execution_count": 3,
   "metadata": {},
   "outputs": [],
   "source": [
    "i = 0;\n",
    "for filename in glob.glob('potholes/*.jpg'): \n",
    "   \n",
    "    \n",
    "    im=cv2.imread(filename)\n",
    "    #print(filename)\n",
    "    im_r= cv2.cvtColor(im, cv2.COLOR_BGR2GRAY)\n",
    "\n",
    "   \n",
    "    image_resized = cv2.resize(im_r, (size))\n",
    "    hasPothole.append(image_resized)\n",
    "    potholeData[i] = (hog.compute(image_resized).reshape(1, -1))\n",
    "    i= i + 1"
   ]
  },
  {
   "cell_type": "markdown",
   "metadata": {},
   "source": [
    "# Mesmo processo acima mas para imagens sem buracos"
   ]
  },
  {
   "cell_type": "code",
   "execution_count": 4,
   "metadata": {},
   "outputs": [],
   "source": [
    "normalRoadsFolderSize = len(glob.glob('normal/*.jpg'))\n",
    "\n",
    "for filename in glob.glob('normal/*.jpg'): \n",
    "    firstFileName = filename\n",
    "    break\n",
    "\n",
    "\n",
    "im=cv2.imread(firstFileName)\n",
    "\n",
    "im_r= cv2.cvtColor(im, cv2.COLOR_BGR2GRAY)\n",
    "image_resized = cv2.resize(im_r, (size))\n",
    "hogImage = hog.compute(image_resized).reshape(1, -1)\n",
    "\n",
    "\n",
    "normalRoadsmageDimensions =hogImage.shape[1]         \n",
    "    \n",
    "normalRoadsData = np.zeros((normalRoadsFolderSize, normalRoadsmageDimensions))"
   ]
  },
  {
   "cell_type": "code",
   "execution_count": 5,
   "metadata": {},
   "outputs": [],
   "source": [
    "\n",
    "i = 0;\n",
    "for filename in glob.glob('normal/*.jpg'): \n",
    "   \n",
    "    #print(filename)\n",
    "    im=cv2.imread(filename)\n",
    "   # im = np.asarray(im, dtype=np.uint8)\n",
    "    \n",
    "    im_r= cv2.cvtColor(im, cv2.COLOR_BGR2GRAY)\n",
    "\n",
    "   \n",
    "    image_resized = cv2.resize(im_r, (size))\n",
    "    #hasPothole.append(image_resized)\n",
    "    normalRoadsData[i] = (hog.compute(image_resized).reshape(1, -1))\n",
    "    i= i + 1"
   ]
  },
  {
   "cell_type": "markdown",
   "metadata": {},
   "source": [
    "# Cria dados para treinamento e calcula cross_val_score"
   ]
  },
  {
   "cell_type": "code",
   "execution_count": 6,
   "metadata": {},
   "outputs": [],
   "source": [
    "from itertools import chain\n",
    "X_train = np.array([hogData\n",
    "                    for hogData in chain(potholeData,\n",
    "                                    normalRoadsData)])\n",
    "y_train = np.zeros(X_train.shape[0])\n",
    "y_train[:potholeData.shape[0]] = 1"
   ]
  },
  {
   "cell_type": "code",
   "execution_count": 7,
   "metadata": {},
   "outputs": [
    {
     "data": {
      "text/plain": [
       "array([0.81751825, 0.88235294, 0.80882353, 0.80147059, 0.78676471])"
      ]
     },
     "execution_count": 7,
     "metadata": {},
     "output_type": "execute_result"
    }
   ],
   "source": [
    "from sklearn.naive_bayes import GaussianNB\n",
    "from sklearn.model_selection import cross_val_score\n",
    "\n",
    "cross_val_score(GaussianNB(), X_train, y_train)"
   ]
  },
  {
   "cell_type": "markdown",
   "metadata": {},
   "source": [
    "# Efetua Grid Search e fit"
   ]
  },
  {
   "cell_type": "code",
   "execution_count": 8,
   "metadata": {},
   "outputs": [
    {
     "data": {
      "text/plain": [
       "GridSearchCV(cv=None, error_score=nan,\n",
       "             estimator=LinearSVC(C=1.0, class_weight=None, dual=False,\n",
       "                                 fit_intercept=True, intercept_scaling=1,\n",
       "                                 loss='squared_hinge', max_iter=2000,\n",
       "                                 multi_class='ovr', penalty='l2',\n",
       "                                 random_state=None, tol=0.0001, verbose=0),\n",
       "             iid='deprecated', n_jobs=None,\n",
       "             param_grid={'C': [1.0, 10.0, 100.0, 1000.0]},\n",
       "             pre_dispatch='2*n_jobs', refit=True, return_train_score=False,\n",
       "             scoring=None, verbose=0)"
      ]
     },
     "execution_count": 8,
     "metadata": {},
     "output_type": "execute_result"
    }
   ],
   "source": [
    "from sklearn.svm import LinearSVC\n",
    "from sklearn.model_selection  import GridSearchCV\n",
    "\n",
    "grid = GridSearchCV(LinearSVC(dual=False,max_iter=2000), {'C': [1.0, 10.0, 100.0, 1000.0]})\n",
    "grid.fit(X_train, y_train)"
   ]
  },
  {
   "cell_type": "code",
   "execution_count": 9,
   "metadata": {},
   "outputs": [
    {
     "data": {
      "text/plain": [
       "LinearSVC(C=1.0, class_weight=None, dual=False, fit_intercept=True,\n",
       "          intercept_scaling=1, loss='squared_hinge', max_iter=2000,\n",
       "          multi_class='ovr', penalty='l2', random_state=None, tol=0.0001,\n",
       "          verbose=0)"
      ]
     },
     "execution_count": 9,
     "metadata": {},
     "output_type": "execute_result"
    }
   ],
   "source": [
    "model = grid.best_estimator_\n",
    "model.fit(X_train, y_train)"
   ]
  },
  {
   "cell_type": "markdown",
   "metadata": {},
   "source": [
    "# Testa classificação. 1 é buraco, 0 é ausência."
   ]
  },
  {
   "cell_type": "code",
   "execution_count": 22,
   "metadata": {},
   "outputs": [],
   "source": [
    "im=cv2.imread(\"potholes/115.jpg\")\n",
    "im_r= cv2.cvtColor(im, cv2.COLOR_BGR2GRAY)\n",
    "image_resized = cv2.resize(im_r, (size))\n",
    "hogP = (hog.compute(image_resized).reshape(1, -1))\n"
   ]
  },
  {
   "cell_type": "code",
   "execution_count": 23,
   "metadata": {},
   "outputs": [
    {
     "data": {
      "text/plain": [
       "1.0"
      ]
     },
     "execution_count": 23,
     "metadata": {},
     "output_type": "execute_result"
    }
   ],
   "source": [
    "labels = model.predict(hogP)\n",
    "labels.sum()"
   ]
  },
  {
   "cell_type": "code",
   "execution_count": 12,
   "metadata": {},
   "outputs": [
    {
     "data": {
      "text/plain": [
       "0.0"
      ]
     },
     "execution_count": 12,
     "metadata": {},
     "output_type": "execute_result"
    }
   ],
   "source": [
    "im=cv2.imread(\"normal/1.jpg\")\n",
    "im_r= cv2.cvtColor(im, cv2.COLOR_BGR2GRAY)\n",
    "image_resized = cv2.resize(im_r, (size))\n",
    "hogP = (hog.compute(image_resized).reshape(1, -1))\n",
    "\n",
    "labels = model.predict(hogP)\n",
    "labels.sum()"
   ]
  },
  {
   "cell_type": "markdown",
   "metadata": {},
   "source": [
    "# Fazendo segmentação da imagem com buraco para mostrar área... código retirado de https://scikit-image.org/docs/stable/auto_examples/segmentation/plot_rag_merge.html#sphx-glr-auto-examples-segmentation-plot-rag-merge-py\n",
    "\n",
    "# Não é o usado por fim no artigo mas deu um resultado relativamente similar ao apresentado para imagens vistas de cima."
   ]
  },
  {
   "cell_type": "code",
   "execution_count": 21,
   "metadata": {},
   "outputs": [
    {
     "data": {
      "image/png": "[encoded data removed]",
      "text/plain": [
       "<Figure size 432x288 with 1 Axes>"
      ]
     },
     "metadata": {
      "needs_background": "light"
     },
     "output_type": "display_data"
    }
   ],
   "source": [
    "from skimage import data, io, segmentation, color\n",
    "from skimage.future import graph\n",
    "import numpy as np\n",
    "\n",
    "\n",
    "def _weight_mean_color(graph, src, dst, n):\n",
    "    \"\"\"Callback to handle merging nodes by recomputing mean color.\n",
    "\n",
    "    The method expects that the mean color of `dst` is already computed.\n",
    "\n",
    "    Parameters\n",
    "    ----------\n",
    "    graph : RAG\n",
    "        The graph under consideration.\n",
    "    src, dst : int\n",
    "        The vertices in `graph` to be merged.\n",
    "    n : int\n",
    "        A neighbor of `src` or `dst` or both.\n",
    "\n",
    "    Returns\n",
    "    -------\n",
    "    data : dict\n",
    "        A dictionary with the `\"weight\"` attribute set as the absolute\n",
    "        difference of the mean color between node `dst` and `n`.\n",
    "    \"\"\"\n",
    "\n",
    "    diff = graph.nodes[dst]['mean color'] - graph.nodes[n]['mean color']\n",
    "    diff = np.linalg.norm(diff)\n",
    "    return {'weight': diff}\n",
    "\n",
    "\n",
    "def merge_mean_color(graph, src, dst):\n",
    "    \"\"\"Callback called before merging two nodes of a mean color distance graph.\n",
    "\n",
    "    This method computes the mean color of `dst`.\n",
    "\n",
    "    Parameters\n",
    "    ----------\n",
    "    graph : RAG\n",
    "        The graph under consideration.\n",
    "    src, dst : int\n",
    "        The vertices in `graph` to be merged.\n",
    "    \"\"\"\n",
    "    graph.nodes[dst]['total color'] += graph.nodes[src]['total color']\n",
    "    graph.nodes[dst]['pixel count'] += graph.nodes[src]['pixel count']\n",
    "    graph.nodes[dst]['mean color'] = (graph.nodes[dst]['total color'] /\n",
    "                                      graph.nodes[dst]['pixel count'])\n",
    "\n",
    "\n",
    "img = cv2.imread(\"potholes/115.jpg\")\n",
    "labels = segmentation.slic(img, compactness=30, n_segments=400)\n",
    "g = graph.rag_mean_color(img, labels)\n",
    "\n",
    "labels2 = graph.merge_hierarchical(labels, g, thresh=40, rag_copy=False,\n",
    "                                   in_place_merge=True,\n",
    "                                   merge_func=merge_mean_color,\n",
    "                                   weight_func=_weight_mean_color)\n",
    "\n",
    "out = color.label2rgb(labels2, img, kind='avg', bg_label=0)\n",
    "out = segmentation.mark_boundaries(out, labels2, (0, 0, 0))\n",
    "io.imshow(out)\n",
    "io.show()"
   ]
  },
  {
   "cell_type": "code",
   "execution_count": null,
   "metadata": {},
   "outputs": [],
   "source": []
  }
 ],
 "metadata": {
  "kernelspec": {
   "display_name": "Python 3",
   "language": "python",
   "name": "python3"
  },
  "language_info": {
   "codemirror_mode": {
    "name": "ipython",
    "version": 3
   },
   "file_extension": ".py",
   "mimetype": "text/x-python",
   "name": "python",
   "nbconvert_exporter": "python",
   "pygments_lexer": "ipython3",
   "version": "3.7.6"
  }
 },
 "nbformat": 4,
 "nbformat_minor": 4
}
