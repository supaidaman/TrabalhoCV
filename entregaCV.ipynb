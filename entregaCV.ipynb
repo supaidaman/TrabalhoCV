{
 "cells": [
  {
   "cell_type": "markdown",
   "metadata": {},
   "source": [
    "# Importações Iniciais e criação de descritor para HOG\n"
   ]
  },
  {
   "cell_type": "code",
   "execution_count": 1,
   "metadata": {},
   "outputs": [],
   "source": [
    "import matplotlib.pyplot as plt\n",
    "import numpy as np\n",
    "from skimage import data, exposure\n",
    "\n",
    "from sklearn.datasets import load_iris, load_digits\n",
    "from sklearn.model_selection import train_test_split\n",
    "from sklearn.metrics import accuracy_score\n",
    "import cv2\n",
    "\n",
    "hog = cv2.HOGDescriptor((28, 28), (14, 14), (7, 7), (14, 14), 12)\n"
   ]
  },
  {
   "cell_type": "markdown",
   "metadata": {},
   "source": [
    "# Pega dados de um arquivo de imagem e cria array numpy para guardar os resultados"
   ]
  },
  {
   "cell_type": "code",
   "execution_count": 2,
   "metadata": {},
   "outputs": [],
   "source": [
    "import glob\n",
    "size = 200, 200\n",
    "hasPothole = []\n",
    "\n",
    "i = 0;\n",
    "\n",
    "potholeFolderSize = len(glob.glob('potholes/*.jpg'))\n",
    "\n",
    "firstFileName = \"\"\n",
    "for filename in glob.glob('potholes/*.jpg'): \n",
    "    firstFileName = filename\n",
    "    break\n",
    "\n",
    "    \n",
    "im=cv2.imread(firstFileName)\n",
    "\n",
    "im_r= cv2.cvtColor(im, cv2.COLOR_BGR2GRAY)\n",
    "image_resized = cv2.resize(im_r, (size))\n",
    "hogImage = hog.compute(image_resized).reshape(1, -1)\n",
    "\n",
    "\n",
    "potHoleImageDimensions =hogImage.shape[1]         \n",
    "    \n",
    "potholeData = np.zeros((potholeFolderSize, potHoleImageDimensions))\n",
    "\n",
    "    "
   ]
  },
  {
   "cell_type": "markdown",
   "metadata": {},
   "source": [
    "# Calcula HOG para todas as imagens de buracos na pasta. Segue o seguinte processo: Lê imagem, converte para tons de cinza, redimensiona para 200x200 e por fim calcula HOG"
   ]
  },
  {
   "cell_type": "code",
   "execution_count": 3,
   "metadata": {},
   "outputs": [],
   "source": [
    "i = 0;\n",
    "for filename in glob.glob('potholes/*.jpg'): \n",
    "   \n",
    "    \n",
    "    im=cv2.imread(filename)\n",
    "    #print(filename)\n",
    "    im_r= cv2.cvtColor(im, cv2.COLOR_BGR2GRAY)\n",
    "\n",
    "   \n",
    "    image_resized = cv2.resize(im_r, (size))\n",
    "    hasPothole.append(image_resized)\n",
    "    potholeData[i] = (hog.compute(image_resized).reshape(1, -1))\n",
    "    i= i + 1"
   ]
  },
  {
   "cell_type": "markdown",
   "metadata": {},
   "source": [
    "# Mesmo processo acima mas para imagens sem buracos"
   ]
  },
  {
   "cell_type": "code",
   "execution_count": 4,
   "metadata": {},
   "outputs": [],
   "source": [
    "normalRoadsFolderSize = len(glob.glob('normal/*.jpg'))\n",
    "\n",
    "for filename in glob.glob('normal/*.jpg'): \n",
    "    firstFileName = filename\n",
    "    break\n",
    "\n",
    "\n",
    "im=cv2.imread(firstFileName)\n",
    "\n",
    "im_r= cv2.cvtColor(im, cv2.COLOR_BGR2GRAY)\n",
    "image_resized = cv2.resize(im_r, (size))\n",
    "hogImage = hog.compute(image_resized).reshape(1, -1)\n",
    "\n",
    "\n",
    "normalRoadsmageDimensions =hogImage.shape[1]         \n",
    "    \n",
    "normalRoadsData = np.zeros((normalRoadsFolderSize, normalRoadsmageDimensions))"
   ]
  },
  {
   "cell_type": "code",
   "execution_count": 5,
   "metadata": {},
   "outputs": [],
   "source": [
    "\n",
    "i = 0;\n",
    "for filename in glob.glob('normal/*.jpg'): \n",
    "   \n",
    "    #print(filename)\n",
    "    im=cv2.imread(filename)\n",
    "   # im = np.asarray(im, dtype=np.uint8)\n",
    "    \n",
    "    im_r= cv2.cvtColor(im, cv2.COLOR_BGR2GRAY)\n",
    "\n",
    "   \n",
    "    image_resized = cv2.resize(im_r, (size))\n",
    "    #hasPothole.append(image_resized)\n",
    "    normalRoadsData[i] = (hog.compute(image_resized).reshape(1, -1))\n",
    "    i= i + 1"
   ]
  },
  {
   "cell_type": "markdown",
   "metadata": {},
   "source": [
    "# Cria dados para treinamento e calcula cross_val_score"
   ]
  },
  {
   "cell_type": "code",
   "execution_count": 6,
   "metadata": {},
   "outputs": [],
   "source": [
    "from itertools import chain\n",
    "X_train = np.array([hogData\n",
    "                    for hogData in chain(potholeData,\n",
    "                                    normalRoadsData)])\n",
    "y_train = np.zeros(X_train.shape[0])\n",
    "y_train[:potholeData.shape[0]] = 1"
   ]
  },
  {
   "cell_type": "code",
   "execution_count": 7,
   "metadata": {},
   "outputs": [
    {
     "data": {
      "text/plain": [
       "array([0.81751825, 0.88235294, 0.80882353, 0.80147059, 0.78676471])"
      ]
     },
     "execution_count": 7,
     "metadata": {},
     "output_type": "execute_result"
    }
   ],
   "source": [
    "from sklearn.naive_bayes import GaussianNB\n",
    "from sklearn.model_selection import cross_val_score\n",
    "\n",
    "cross_val_score(GaussianNB(), X_train, y_train)"
   ]
  },
  {
   "cell_type": "markdown",
   "metadata": {},
   "source": [
    "# Efetua Grid Search e fit"
   ]
  },
  {
   "cell_type": "code",
   "execution_count": 8,
   "metadata": {},
   "outputs": [
    {
     "data": {
      "text/plain": [
       "GridSearchCV(cv=None, error_score=nan,\n",
       "             estimator=LinearSVC(C=1.0, class_weight=None, dual=False,\n",
       "                                 fit_intercept=True, intercept_scaling=1,\n",
       "                                 loss='squared_hinge', max_iter=5000,\n",
       "                                 multi_class='ovr', penalty='l2',\n",
       "                                 random_state=None, tol=0.0001, verbose=0),\n",
       "             iid='deprecated', n_jobs=None,\n",
       "             param_grid={'C': [1.0, 10.0, 100.0, 1000.0]},\n",
       "             pre_dispatch='2*n_jobs', refit=True, return_train_score=False,\n",
       "             scoring=None, verbose=0)"
      ]
     },
     "execution_count": 8,
     "metadata": {},
     "output_type": "execute_result"
    }
   ],
   "source": [
    "from sklearn.svm import LinearSVC\n",
    "from sklearn.model_selection  import GridSearchCV\n",
    "\n",
    "grid = GridSearchCV(LinearSVC(dual=False,max_iter=5000), {'C': [1.0, 10.0, 100.0, 1000.0]})\n",
    "grid.fit(X_train, y_train)"
   ]
  },
  {
   "cell_type": "code",
   "execution_count": 9,
   "metadata": {},
   "outputs": [
    {
     "data": {
      "text/plain": [
       "LinearSVC(C=1.0, class_weight=None, dual=False, fit_intercept=True,\n",
       "          intercept_scaling=1, loss='squared_hinge', max_iter=5000,\n",
       "          multi_class='ovr', penalty='l2', random_state=None, tol=0.0001,\n",
       "          verbose=0)"
      ]
     },
     "execution_count": 9,
     "metadata": {},
     "output_type": "execute_result"
    }
   ],
   "source": [
    "model = grid.best_estimator_\n",
    "model.fit(X_train, y_train)"
   ]
  },
  {
   "cell_type": "markdown",
   "metadata": {},
   "source": [
    "# Testa classificação. 1 é buraco, 0 é ausência."
   ]
  },
  {
   "cell_type": "code",
   "execution_count": 10,
   "metadata": {},
   "outputs": [],
   "source": [
    "im=cv2.imread(\"potholes/1.jpg\")\n",
    "im_r= cv2.cvtColor(im, cv2.COLOR_BGR2GRAY)\n",
    "image_resized = cv2.resize(im_r, (size))\n",
    "hogP = (hog.compute(image_resized).reshape(1, -1))\n"
   ]
  },
  {
   "cell_type": "code",
   "execution_count": 11,
   "metadata": {},
   "outputs": [
    {
     "data": {
      "text/plain": [
       "1.0"
      ]
     },
     "execution_count": 11,
     "metadata": {},
     "output_type": "execute_result"
    }
   ],
   "source": [
    "labels = model.predict(hogP)\n",
    "labels.sum()"
   ]
  },
  {
   "cell_type": "code",
   "execution_count": null,
   "metadata": {},
   "outputs": [],
   "source": []
  }
 ],
 "metadata": {
  "kernelspec": {
   "display_name": "Python 3",
   "language": "python",
   "name": "python3"
  },
  "language_info": {
   "codemirror_mode": {
    "name": "ipython",
    "version": 3
   },
   "file_extension": ".py",
   "mimetype": "text/x-python",
   "name": "python",
   "nbconvert_exporter": "python",
   "pygments_lexer": "ipython3",
   "version": "3.7.6"
  }
 },
 "nbformat": 4,
 "nbformat_minor": 4
}
